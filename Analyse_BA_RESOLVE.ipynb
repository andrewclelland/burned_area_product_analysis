{
 "cells": [
  {
   "cell_type": "markdown",
   "id": "caf5a493-4d86-4634-b64c-44361393c690",
   "metadata": {
    "jp-MarkdownHeadingCollapsed": true
   },
   "source": [
    "# Prelims"
   ]
  },
  {
   "cell_type": "code",
   "execution_count": null,
   "id": "c21a0417-c34f-4abb-b894-18096dd56cd6",
   "metadata": {},
   "outputs": [],
   "source": [
    "# Install the Google Earth Engine Python API and geemap, if necessary\n",
    "!pip install earthengine-api\n",
    "!pip install geemap"
   ]
  },
  {
   "cell_type": "code",
   "execution_count": null,
   "id": "0c080b39-928c-43e8-9825-2951695c05c8",
   "metadata": {},
   "outputs": [],
   "source": [
    "import geemap\n",
    "from calendar import monthrange\n",
    "\n",
    "gabamVis = {'palette': ['f00c0c'], 'min':1, 'max':1} # Generic binary mask for visualisation"
   ]
  },
  {
   "cell_type": "code",
   "execution_count": null,
   "id": "539a3f37-957f-404f-8f1e-11036e3fe716",
   "metadata": {},
   "outputs": [],
   "source": [
    "import ee\n",
    "ee.Authenticate()\n",
    "ee.Initialize(project='spherical-berm-323321') # <-- Edit project linked to your individual GEE account"
   ]
  },
  {
   "cell_type": "code",
   "execution_count": null,
   "id": "27864434-3fae-46e7-af54-cafc175bc919",
   "metadata": {},
   "outputs": [],
   "source": [
    "# For boreal and tundra Northern hemisphere individual ecoregions\n",
    "# Load the ecoregions\n",
    "ecoRegions = ee.FeatureCollection('RESOLVE/ECOREGIONS/2017')\n",
    "\n",
    "# Apply filters\n",
    "biome_filter = ee.Filter.inList('BIOME_NUM', [6])\n",
    "realm_filter = ee.Filter.inList('REALM', ['Nearctic', 'Palearctic'])\n",
    "combined_filter = ee.Filter.And(biome_filter, realm_filter)\n",
    "selected_regions = ecoRegions.filter(combined_filter)\n",
    "region_list = selected_regions.toList(selected_regions.size())"
   ]
  },
  {
   "cell_type": "markdown",
   "id": "4c7a5474-72fb-42b8-bb93-d9acd2c96f45",
   "metadata": {
    "jp-MarkdownHeadingCollapsed": true
   },
   "source": [
    "# Area analysis for RESOLVE ecoregions"
   ]
  },
  {
   "cell_type": "code",
   "execution_count": null,
   "id": "04b8ddde-2976-4481-ad60-744d00b48b2b",
   "metadata": {},
   "outputs": [],
   "source": [
    "# Use this and next cell to find ecoregions where BA /= 0, or to view on map\n",
    "# import FireCCI data (global) - from 2001 to 2020\n",
    "dataset = (ee.ImageCollection(\"ESA/CCI/FireCCI/5_1\")\n",
    "    .filterDate('2001-01-01', '2020-12-31'))\n",
    "\n",
    "# created burned area and confidence level layers\n",
    "julianDay = dataset.select('BurnDate')\n",
    "confLevel = dataset.select('ConfidenceLevel')\n",
    "landCover = dataset.select('LandCover')\n",
    "\n",
    "maxJD = julianDay.max()\n",
    "maxCL = confLevel.max()\n",
    "\n",
    "CLmask = maxCL.gte(ee.Number(80))\n",
    "maxJDmasked = maxJD.mask(CLmask)\n",
    "\n",
    "#final = ee.FeatureCollection('users/andyc97/model_shapefiles/south_siberia_final')\n",
    "#final = ee.FeatureCollection('users/andyc97/model_shapefiles/final_north')\n",
    "reprojected = maxJDmasked.reproject(crs='EPSG:6931', scale=4000)\n",
    "binary = reprojected.multiply(0).add(1).clip(selected_regions)"
   ]
  },
  {
   "cell_type": "code",
   "execution_count": null,
   "id": "c2c3f107-36c7-4da4-9811-222b4810f825",
   "metadata": {},
   "outputs": [],
   "source": [
    "for i in range(region_list.size().getInfo()):\n",
    "    feature = ee.Feature(region_list.get(i))\n",
    "    eco_name = feature.get('ECO_NAME').getInfo()\n",
    "\n",
    "    # Generate a short name for the region\n",
    "    words = eco_name.split()\n",
    "    if len(words) >= 2:\n",
    "        short_name = (words[0][:4] + words[1][:3]).lower()\n",
    "    else:\n",
    "        short_name = words[0][:7].lower()\n",
    "\n",
    "    print(f\"Processing region: {eco_name} -> {short_name}\")\n",
    "\n",
    "    pa = ee.Image.pixelArea()\n",
    "\n",
    "    # Get area\n",
    "    img_area = pa.updateMask(binary).reduceRegion(\n",
    "      reducer=ee.Reducer.sum(),\n",
    "      geometry=feature.geometry(),\n",
    "      scale=4000, bestEffort=False,\n",
    "      crs='EPSG:6931',\n",
    "      maxPixels=1e12).get('area')\n",
    "    pixel_count = img_area.getInfo() / 1e10 # Area in Mha\n",
    "    print(\"Region =\", short_name)\n",
    "    print(\"Pixel count =\", pixel_count)"
   ]
  },
  {
   "cell_type": "code",
   "execution_count": null,
   "id": "19cf3b2f-18bb-415c-a359-2d4e30c78eb5",
   "metadata": {},
   "outputs": [],
   "source": [
    "# Use this and next cell to run over ecoregions where BA /= 0\n",
    "fire_dataset = ee.ImageCollection(\"ESA/CCI/FireCCI/5_1\") \\\n",
    "    .filterDate('2020-01-01', '2020-12-31') \\\n",
    "    .select(['BurnDate', 'ConfidenceLevel'])\n",
    "\n",
    "# Confidence mask\n",
    "conf_masked = fire_dataset.map(\n",
    "    lambda img: img.updateMask(img.select('ConfidenceLevel').gte(80)))"
   ]
  },
  {
   "cell_type": "code",
   "execution_count": null,
   "id": "0cd16ff5-31bd-42a6-959f-47a3ffd43d8f",
   "metadata": {},
   "outputs": [],
   "source": [
    "# Loop over regions\n",
    "for i in [2,4,5,6,7,8,9,10,14,15,17,18,19,20,22,23,24,25,28,31,43,47,48,49,51,54,55,57]: # <-- edit as necessary\n",
    "    feature = ee.Feature(region_list.get(i))\n",
    "    eco_name = feature.get('ECO_NAME').getInfo()\n",
    "\n",
    "    # Generate mnemonic name\n",
    "    words = eco_name.split()\n",
    "    if len(words) >= 2:\n",
    "        short_name = (words[0][:4] + words[1][:3]).lower()\n",
    "    else:\n",
    "        short_name = words[0][:7].lower()\n",
    "\n",
    "    print(f\"Processing region: {eco_name} -> {short_name}\")\n",
    "\n",
    "    # Loop through months\n",
    "    for month in range(1, 13):\n",
    "        start_date = f'2020-{month:02d}-01'\n",
    "        end_day = monthrange(2001, month)[1]\n",
    "        end_date = f'2020-{month:02d}-{end_day}'\n",
    "\n",
    "        # Filter the dataset to the month\n",
    "        month_images = conf_masked.filterDate(start_date, end_date)\n",
    "        maxJD = month_images.select('BurnDate').max()\n",
    "\n",
    "        # Make binary mask\n",
    "        binary = maxJD.multiply(0).add(1).reproject(crs='EPSG:6931', scale=4000)\n",
    "\n",
    "        # Get pixel area\n",
    "        pixel_area = ee.Image.pixelArea().updateMask(binary)\n",
    "\n",
    "        # Sum burned area in region\n",
    "        burned = pixel_area.reduceRegion(\n",
    "            reducer=ee.Reducer.sum(),\n",
    "            geometry=feature.geometry(),\n",
    "            scale=4000,\n",
    "            crs='EPSG:6931',\n",
    "            maxPixels=1e12\n",
    "        ).get('area')\n",
    "\n",
    "        burned_mha = burned.getInfo() / 1e10 if burned else 0  # Convert m² to Mha\n",
    "        print(f\"  {start_date}: {burned_mha} Mha\")"
   ]
  },
  {
   "cell_type": "code",
   "execution_count": null,
   "id": "9c5e5bd4-9ef5-4066-8a04-8c634d109df0",
   "metadata": {},
   "outputs": [],
   "source": [
    "# import MCD64A1 dataset (global) - from 2001 to present\n",
    "dataset2 = (ee.ImageCollection(\"MODIS/061/MCD64A1\")\n",
    "    .filterDate('2021-01-01', '2023-12-31'))\n",
    "\n",
    "# created burned area and uncertainty layers\n",
    "burnDate = dataset2.select('BurnDate')\n",
    "uncertainty = dataset2.select('Uncertainty')\n",
    "\n",
    "maxBD = burnDate.max()\n",
    "maxUC = uncertainty.max()\n",
    "\n",
    "#final = ee.FeatureCollection('users/andyc97/model_shapefiles/south_siberia_final')\n",
    "final = ee.FeatureCollection('users/andyc97/model_shapefiles/final_north')\n",
    "reprojected = maxBD.reproject(crs='EPSG:6931', scale=4000)\n",
    "binary_mcd = reprojected.multiply(0).add(1).clip(selected_regions)"
   ]
  },
  {
   "cell_type": "code",
   "execution_count": null,
   "id": "7dd930b0-109f-46c5-9f84-c38a4ca4232d",
   "metadata": {},
   "outputs": [],
   "source": [
    "for i in range(region_list.size().getInfo()):\n",
    "    feature = ee.Feature(region_list.get(i))\n",
    "    eco_name = feature.get('ECO_NAME').getInfo()\n",
    "\n",
    "    # Generate a short name for the region\n",
    "    words = eco_name.split()\n",
    "    if len(words) >= 2:\n",
    "        short_name = (words[0][:4] + words[1][:3]).lower()\n",
    "    else:\n",
    "        short_name = words[0][:7].lower()\n",
    "\n",
    "    print(f\"Processing region: {eco_name} -> {short_name}\")\n",
    "\n",
    "    pa = ee.Image.pixelArea()\n",
    "\n",
    "    # Get area\n",
    "    img_area = pa.updateMask(binary).reduceRegion(\n",
    "      reducer=ee.Reducer.sum(),\n",
    "      geometry=feature.geometry(),\n",
    "      scale=4000, bestEffort=False,\n",
    "      crs='EPSG:6931',\n",
    "      maxPixels=1e12).get('area')\n",
    "    pixel_count = img_area.getInfo() / 1e10 # Area in Mha\n",
    "    print(\"Region =\", short_name)\n",
    "    print(\"Pixel count =\", pixel_count)"
   ]
  },
  {
   "cell_type": "code",
   "execution_count": null,
   "id": "e304ff17-1109-4ee3-bd9b-28d9ec99fe9d",
   "metadata": {},
   "outputs": [],
   "source": [
    "Map = geemap.Map()\n",
    "Map.add_basemap(\"Esri.WorldImagery\")\n",
    "Map.addLayer(binary, gabamVis, 'FireCCI')\n",
    "Map.addLayer(binary_mcd, gabamVis, 'MCD')\n",
    "Map"
   ]
  },
  {
   "cell_type": "code",
   "execution_count": null,
   "id": "e5679865-2166-4360-aea0-a8af7f1f493c",
   "metadata": {},
   "outputs": [],
   "source": []
  }
 ],
 "metadata": {
  "kernelspec": {
   "display_name": "Python 3 + Jaspy",
   "language": "python",
   "name": "jaspy"
  },
  "language_info": {
   "codemirror_mode": {
    "name": "ipython",
    "version": 3
   },
   "file_extension": ".py",
   "mimetype": "text/x-python",
   "name": "python",
   "nbconvert_exporter": "python",
   "pygments_lexer": "ipython3",
   "version": "3.11.9"
  }
 },
 "nbformat": 4,
 "nbformat_minor": 5
}
